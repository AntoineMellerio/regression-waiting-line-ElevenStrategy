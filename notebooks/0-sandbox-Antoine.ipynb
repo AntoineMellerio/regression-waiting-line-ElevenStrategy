{
 "cells": [
  {
   "cell_type": "code",
   "execution_count": 1,
   "metadata": {},
   "outputs": [],
   "source": [
    "import pandas as pd\n",
    "from pathlib import Path\n",
    "import os"
   ]
  },
  {
   "cell_type": "code",
   "execution_count": 2,
   "metadata": {},
   "outputs": [],
   "source": [
    "notebook_path = Path(os.getcwd())\n",
    "repo_path = notebook_path.parent.absolute()\n",
    "root_path = repo_path.parent.absolute()\n",
    "data_path = os.path.join(root_path, 'data')\n",
    "os.chdir(root_path)"
   ]
  },
  {
   "cell_type": "code",
   "execution_count": null,
   "metadata": {},
   "outputs": [],
   "source": []
  }
 ],
 "metadata": {
  "kernelspec": {
   "display_name": "eleven-env",
   "language": "python",
   "name": "python3"
  },
  "language_info": {
   "codemirror_mode": {
    "name": "ipython",
    "version": 3
   },
   "file_extension": ".py",
   "mimetype": "text/x-python",
   "name": "python",
   "nbconvert_exporter": "python",
   "pygments_lexer": "ipython3",
   "version": "3.8.16 (default, Jan 17 2023, 16:42:09) \n[Clang 14.0.6 ]"
  },
  "orig_nbformat": 4,
  "vscode": {
   "interpreter": {
    "hash": "3b77f3b29139cedab02519f48a4fc5b966cc8710d0b7e5d14ef67af696963786"
   }
  }
 },
 "nbformat": 4,
 "nbformat_minor": 2
}
